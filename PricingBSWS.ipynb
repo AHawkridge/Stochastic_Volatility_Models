{
 "cells": [
  {
   "cell_type": "code",
   "execution_count": 2,
   "metadata": {},
   "outputs": [],
   "source": [
    "import numpy as np\n",
    "import matplotlib.pyplot as plt\n",
    "from scipy.special import iv\n",
    "from scipy import integrate\n",
    "from scipy.stats import norm\n",
    "from scipy.special import erfinv, erf"
   ]
  },
  {
   "cell_type": "code",
   "execution_count": 3,
   "metadata": {},
   "outputs": [],
   "source": [
    "def phi(x,S0,sigmas,r,t,T):\n",
    "    v = (sigmas[0]**2-sigmas[1]**2)*t + sigmas[1]**2 *T\n",
    "    m = np.log(S0)+(r*T- (1/2 *v))\n",
    "    return norm.pdf(x,m,np.sqrt(v))\n",
    "\n",
    "def f0(Q,T,t):\n",
    "    lam0 = abs(Q[0][0])\n",
    "    lam1 = abs(Q[1][1])\n",
    "    d=1\n",
    "    sec = lam0*iv(0,2*(lam0*lam1*t*(T-t))**(1/2)) + ((lam0*lam1*t)/(T-t))**(1/2)*iv(1,2*(lam0*lam1*t*(T-t))**(1/2))\n",
    "    out = np.exp(-lam0*T)*d + (np.exp(-lam1*(T-t)-lam0*t)* sec)\n",
    "    return out\n",
    "\n",
    "def f1(Q,T,t):\n",
    "    lam0 = abs(Q[0][0])\n",
    "    lam1 = abs(Q[1][1])\n",
    "    d=0\n",
    "    sec = (lam1*iv(0,2*(lam0*lam1*t*(T-t))**(1/2)))+((lam0*lam1*(T-t))/(t))**(1/2)*iv(1,2*(lam0*lam1*t*(T-t))**(1/2))\n",
    "    out = np.exp(-lam1*T)*d + np.exp(-lam1*(T-t)-lam0*t) * sec\n",
    "    return out\n",
    "\n",
    "\n",
    "def BSWS_CALL(S,K,T,r,sigmas,Q):\n",
    "    val,_ = integrate.dblquad(lambda y,t: (y/(y+K)) * phi(np.log(y+K),S,sigmas,r,t,T)*f0(Q,T,t), 0, T, 0, np.inf)\n",
    "    return val*np.exp(-r*T)\n",
    "\n",
    "def BS_CALL(S, K, T, r, sigma):\n",
    "    d1 = (np.log(S/K) + (r + sigma**2 / 2)*T) / (sigma*np.sqrt(T))\n",
    "    d2 = d1 - sigma * np.sqrt(T)\n",
    "    return S * norm.cdf(d1) - K * np.exp(-r*T)* norm.cdf(d2)\n"
   ]
  },
  {
   "cell_type": "code",
   "execution_count": 7,
   "metadata": {},
   "outputs": [
    {
     "name": "stdout",
     "output_type": "stream",
     "text": [
      "Black-Scholes:\t 154.93801759433347\n",
      "BSWS:\t\t 85.5674484547266\n"
     ]
    }
   ],
   "source": [
    "S=350\n",
    "K=200\n",
    "T=0.25\n",
    "r=0.1\n",
    "sigmas=[0.1,1]\n",
    "Q = np.array([[-2, 2], [4, -4]])  \n",
    "\n",
    "\n",
    "print('Black-Scholes:\\t',BS_CALL(S, K, T, r, sigmas[0]))\n",
    "print('BSWS:\\t\\t',BSWS_CALL(S,K,T,r,sigmas,Q))"
   ]
  },
  {
   "cell_type": "code",
   "execution_count": 6,
   "metadata": {},
   "outputs": [
    {
     "data": {
      "image/png": "[encoded data removed]",
      "text/plain": [
       "<Figure size 432x288 with 1 Axes>"
      ]
     },
     "metadata": {
      "needs_background": "light"
     },
     "output_type": "display_data"
    }
   ],
   "source": [
    "S = 350  \n",
    "T = 1\n",
    "r = 0.1\n",
    "\n",
    "sigmas = [0.1, 1]  \n",
    "Q = np.array([[-2, 2], [4, -4]])  \n",
    "\n",
    "\n",
    "for k in range(250,550,5):\n",
    "    price = BSWS_CALL(S, k, T, r, sigmas, Q)\n",
    "    upper = 1\n",
    "    lower = 0\n",
    "    n=0\n",
    "    while n<100:\n",
    "        mid=(upper+lower)/2\n",
    "        diff = price - BS_CALL(S, k , T, r, mid)\n",
    "        if abs(diff) < 0.01:\n",
    "            break\n",
    "        elif diff>0:\n",
    "            lower = mid\n",
    "        elif diff<0:\n",
    "            upper = mid\n",
    "        n+=1\n",
    "    \n",
    "\n",
    "    plt.plot(k,mid,marker='h',markersize=3,color='blue')\n",
    "\n",
    "\n",
    "plt.xlabel('Strike Price')\n",
    "plt.ylabel('Implied Volatility')\n",
    "plt.title('BSWS Pricing Implied Volatility Smile')\n",
    "plt.savefig(\"Images/PricingIVBSWS.png\", dpi=300)\n",
    "plt.show()\n"
   ]
  }
 ],
 "metadata": {
  "kernelspec": {
   "display_name": "Python 3",
   "language": "python",
   "name": "python3"
  },
  "language_info": {
   "codemirror_mode": {
    "name": "ipython",
    "version": 3
   },
   "file_extension": ".py",
   "mimetype": "text/x-python",
   "name": "python",
   "nbconvert_exporter": "python",
   "pygments_lexer": "ipython3",
   "version": "3.10.2"
  }
 },
 "nbformat": 4,
 "nbformat_minor": 2
}
