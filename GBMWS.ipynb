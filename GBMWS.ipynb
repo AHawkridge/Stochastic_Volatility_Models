{
 "cells": [
  {
   "cell_type": "markdown",
   "metadata": {},
   "source": [
    "Where a new version of the switching model was tested to improve code effeciency"
   ]
  },
  {
   "cell_type": "code",
   "execution_count": 2,
   "metadata": {},
   "outputs": [],
   "source": [
    "import numpy as np\n",
    "import matplotlib.pyplot as plt\n",
    "from scipy.stats import norm, lognorm\n",
    "from scipy.special import iv\n",
    "from scipy import stats\n",
    "import random\n",
    "from scipy import integrate"
   ]
  },
  {
   "cell_type": "code",
   "execution_count": 4,
   "metadata": {},
   "outputs": [],
   "source": [
    "def GBM(mu,sigma,T,s0):\n",
    "    t= np.linspace(0,T,100)\n",
    "    step = T/len(t)\n",
    "    stock = s0\n",
    "    for i in range(len(t)):\n",
    "      z = np.random.normal(0,1)\n",
    "      stock = stock * np.exp((mu- 0.5 * sigma**2)*step + sigma*np.sqrt(step)*z)\n",
    "    return stock\n",
    "\n",
    "\n",
    "def BS_CALL(S, K, T, r, sigma):\n",
    "    d1 = (np.log(S/K) + (r + sigma**2 / 2)*T) / (sigma*np.sqrt(T))\n",
    "    d2 = d1 - sigma * np.sqrt(T)\n",
    "    return S * norm.cdf(d1) - K * np.exp(-r*T)* norm.cdf(d2)"
   ]
  },
  {
   "cell_type": "code",
   "execution_count": 434,
   "metadata": {},
   "outputs": [
    {
     "name": "stdout",
     "output_type": "stream",
     "text": [
      "op 17.47284624805274\n",
      "BS 17.660433464039336\n"
     ]
    }
   ],
   "source": [
    "s0=100\n",
    "K=120\n",
    "T=1\n",
    "mu = 0.3\n",
    "r=mu\n",
    "sigma=0.3\n",
    "observed_price = np.zeros(1000)\n",
    "for i in range(1000):\n",
    "    observed_price[i] = max(GBM(mu,sigma,T,s0)-K,0)\n",
    "\n",
    "op = np.mean(observed_price) * np.exp(-r*T)\n",
    "\n",
    "print('op',op)\n",
    "print('BS',BS_CALL(s0, K, T, r, sigma))"
   ]
  },
  {
   "cell_type": "code",
   "execution_count": 445,
   "metadata": {},
   "outputs": [],
   "source": [
    "def GBM_WSNEW(mu,sigmas,T,s0,Q):\n",
    "    #np.random.seed(100)\n",
    "    t = np.linspace(0, T, 100)\n",
    "    step = T/len(t)\n",
    "    stock = s0\n",
    "    states = list(range(len(Q)))\n",
    "    current = np.random.choice(states,p=[1,0])\n",
    "    \n",
    "    sigma = sigmas[current]\n",
    "    s = [s0]\n",
    "    z = np.random.exponential(1 / abs(Q[current][current]))\n",
    "    length = 0\n",
    "    for i in range(len(t)):\n",
    "        length += step\n",
    "        if length >= z:\n",
    "            length = 0\n",
    "            p = Q[current] / abs(Q[current][current]) \n",
    "            probs = [pr if pr >= 0 else 0 for pr in p]\n",
    "            current = np.random.choice(states, p=probs)\n",
    "            sigma = sigmas[current]\n",
    "            z = np.random.exponential(1 / abs(Q[current][current]))\n",
    "        eta = np.random.normal(0, 1)\n",
    "        stock =stock * np.exp((mu - 0.5 * sigma**2) * step + sigma * np.sqrt(step) * eta)\n",
    "    return stock"
   ]
  },
  {
   "cell_type": "code",
   "execution_count": 446,
   "metadata": {},
   "outputs": [],
   "source": [
    "def GBM_WSNEWst(mu,sigmas,T,s0,Q):\n",
    "\n",
    "    t = np.linspace(0, T, 100)\n",
    "    step = T/len(t)\n",
    "    stock = s0\n",
    "    states = list(range(len(Q)))\n",
    "    current = np.random.choice(states,p=[2/3,1/3]) \n",
    "    sigma = sigmas[current]\n",
    "    z = np.random.exponential(1 / abs(Q[current][current])) \n",
    "    length = 0\n",
    "    for i in range(len(t)):\n",
    "        length += step\n",
    "        if length >= z:\n",
    "            length = 0\n",
    "            p = Q[current] / abs(Q[current][current]) \n",
    "            probs = [pr if pr >= 0 else 0 for pr in p]\n",
    "            current = np.random.choice(states, p=probs)\n",
    "            sigma = sigmas[current]\n",
    "            z = np.random.exponential(1 / abs(Q[current][current]))\n",
    "        eta = np.random.normal(0, 1)\n",
    "        stock = stock * np.exp((mu - 0.5 * sigma**2) * step + sigma * np.sqrt(step) * eta)\n",
    "    \n",
    "        \n",
    "    \n",
    "    return stock"
   ]
  },
  {
   "cell_type": "code",
   "execution_count": 17,
   "metadata": {},
   "outputs": [],
   "source": [
    "def phi(x,S0,sigmas,r,t,T):\n",
    "    v = (sigmas[0]**2-sigmas[1]**2)*t + sigmas[1]**2 *T\n",
    "    m = np.log(S0)+(r*T- (1/2 *v))\n",
    "    return norm.pdf(x,m,np.sqrt(v))\n",
    "\n",
    "def f0(Q,T,t):\n",
    "    lam0 = abs(Q[0][0])\n",
    "    lam1 = abs(Q[1][1])\n",
    "    d=1\n",
    "    sec = lam0*iv(0,2*(lam0*lam1*t*(T-t))**(1/2)) + ((lam0*lam1*t)/(T-t))**(1/2)*iv(1,2*(lam0*lam1*t*(T-t))**(1/2))\n",
    "    out = np.exp(-lam0*T)*d + (np.exp(-lam1*(T-t)-lam0*t)* sec)\n",
    "    return out\n",
    "\n",
    "def f1(Q,T,t):\n",
    "    lam0 = abs(Q[0][0])\n",
    "    lam1 = abs(Q[1][1])\n",
    "    d=0\n",
    "    sec = (lam1*iv(0,2*(lam0*lam1*t*(T-t))**(1/2)))+((lam0*lam1*(T-t))/(t))**(1/2)*iv(1,2*(lam0*lam1*t*(T-t))**(1/2))\n",
    "    out = np.exp(-lam1*T)*d + np.exp(-lam1*(T-t)-lam0*t) * sec\n",
    "    return out\n",
    "\n",
    "\n",
    "def BSWS_CALL(S,K,T,r,sigmas,Q):\n",
    "    val,_ = integrate.dblquad(lambda y,t: (y/(y+K)) * phi(np.log(y+K),S,sigmas,r,t,T)*f0(Q,T,t), 0, T, 0, np.inf)\n",
    "    return val*np.exp(-r*T)\n"
   ]
  },
  {
   "cell_type": "code",
   "execution_count": 441,
   "metadata": {},
   "outputs": [
    {
     "name": "stdout",
     "output_type": "stream",
     "text": [
      "60.42182343085205\n",
      "60.42182343085205\n"
     ]
    }
   ],
   "source": [
    "s0=100\n",
    "K=120\n",
    "T=1\n",
    "mu = 0.3\n",
    "r=mu\n",
    "sigmas=[0.1,1]\n",
    "Q = np.array(([-2,2],[4,-4]))\n",
    "\n",
    "print(GBM_WSNEW(mu,sigmas,T,s0,Q))\n",
    "print(GBM_WSNEWst(mu,sigmas,T,s0,Q))\n"
   ]
  },
  {
   "cell_type": "code",
   "execution_count": 166,
   "metadata": {},
   "outputs": [
    {
     "data": {
      "text/plain": [
       "25.91104375308759"
      ]
     },
     "execution_count": 166,
     "metadata": {},
     "output_type": "execute_result"
    }
   ],
   "source": [
    "s0=100\n",
    "K=100\n",
    "T=1\n",
    "mu = 0.1\n",
    "r=mu\n",
    "sigmas=[0.1,1]\n",
    "Q = np.array(([-2,2],[4,-4]))\n",
    "\n",
    "\n",
    "BSWS_CALL(s0,K,T,r,sigmas,Q)"
   ]
  },
  {
   "cell_type": "code",
   "execution_count": 451,
   "metadata": {},
   "outputs": [
    {
     "name": "stdout",
     "output_type": "stream",
     "text": [
      "27.41117652750007\n"
     ]
    }
   ],
   "source": [
    "observed_price = np.zeros(1000)\n",
    "for i in range(1000):\n",
    "    observed_price[i] = max(GBM_WSNEWst(mu,sigmas,T,s0,Q)-K,0)\n",
    "    \n",
    "\n",
    "\n",
    "op = np.mean(observed_price) * np.exp(-r*T)\n",
    "\n",
    "print(op)"
   ]
  },
  {
   "cell_type": "code",
   "execution_count": 289,
   "metadata": {},
   "outputs": [
    {
     "name": "stdout",
     "output_type": "stream",
     "text": [
      "0.5179990633759384\n",
      "0.23591855851511884\n"
     ]
    }
   ],
   "source": [
    "Q = np.array(([-2,2],[4,-4]))\n",
    "\n",
    "\n",
    "qa = np.zeros(1000)\n",
    "qb = np.zeros(1000)\n",
    "for i in range(len(qa)):\n",
    "    qa[i] = np.random.exponential(1 / abs(Q[0][0]))\n",
    "    qb[i] = np.random.exponential(1 / abs(Q[1][1]))\n",
    "\n",
    "print(np.mean(qa))\n",
    "print(np.mean(qb))\n",
    "\n"
   ]
  },
  {
   "cell_type": "code",
   "execution_count": 143,
   "metadata": {},
   "outputs": [],
   "source": [
    "def GBM_WS(mu,sigmas,T,s0,Q):\n",
    "    t = np.linspace(0, T, 100) # np.linspace(0, T*5000, 50000)\n",
    "    step = T/len(t)\n",
    "    stock = s0\n",
    "    states = list(range(len(Q)))\n",
    "    current = np.random.choice(states,p=[1,0]) \n",
    "    sigma = sigmas[current]\n",
    "    z = np.random.exponential(1 / abs(Q[current][current]))\n",
    "    length = 0\n",
    "    s=[s0]\n",
    "    for i in range(len(t)-1):\n",
    "\n",
    "\n",
    "        length += step\n",
    "        if length >= z:\n",
    "            length = 0\n",
    "            p = Q[current] / abs(Q[current][current]) \n",
    "            probs = [pr if pr >= 0 else 0 for pr in p]\n",
    "            current = np.random.choice(states, p=probs)\n",
    "            sigma = sigmas[current]\n",
    "            z = np.random.exponential(1 / abs(Q[current][current]))\n",
    "            plt.axvline(t[i],color=\"black\", linestyle=\":\")\n",
    "        eta = np.random.normal(0, 1)\n",
    "        stock = stock * np.exp((mu- 0.5 * sigma**2)*step + sigma*np.sqrt(step)*eta)\n",
    "        s.append(stock)\n",
    "    plt.plot(t,s)\n",
    "    return stock"
   ]
  },
  {
   "cell_type": "code",
   "execution_count": 313,
   "metadata": {},
   "outputs": [
    {
     "data": {
      "text/plain": [
       "244.6416958684382"
      ]
     },
     "execution_count": 313,
     "metadata": {},
     "output_type": "execute_result"
    },
    {
     "data": {
      "image/png": "[encoded data removed]",
      "text/plain": [
       "<Figure size 432x288 with 1 Axes>"
      ]
     },
     "metadata": {
      "needs_background": "light"
     },
     "output_type": "display_data"
    }
   ],
   "source": [
    "S = 350  \n",
    "T = 1\n",
    "r = 0.3\n",
    "\n",
    "sigmas = [0.1, 1]  \n",
    "Q = np.array([[-2, 2], [4, -4]])  \n",
    "\n",
    "GBM_WS(r,sigmas,T,S,Q)"
   ]
  },
  {
   "cell_type": "code",
   "execution_count": 81,
   "metadata": {},
   "outputs": [
    {
     "name": "stdout",
     "output_type": "stream",
     "text": [
      "op 120.68340731278225\n",
      "-7.667984821238306\n",
      "1.1873949137681876\n",
      "-1.8949526606066769\n",
      "0.041718464905571295\n",
      "-0.8326821210463748\n",
      "-0.3710623523767964\n",
      "-0.15846922093307114\n",
      "-0.05681405168589038\n",
      "-0.007156244313350157\n",
      "bs 120.6905635570956\n",
      "0.314453125\n"
     ]
    }
   ],
   "source": [
    "M=10000\n",
    "S=300\n",
    "k=200\n",
    "r=0.1\n",
    "mu=r\n",
    "sigma=0.3\n",
    "T=1\n",
    "observed_price = np.zeros(M)\n",
    "for s in range(M):\n",
    "    observed_price[s] = max(GBM(mu,sigma,T,S)-k,0)\n",
    "op = np.mean(observed_price) * np.exp(-r*T)\n",
    "\n",
    "print('op',op)\n",
    "upper = 1\n",
    "lower = 0\n",
    "n=0\n",
    "while n<100:\n",
    "    mid=(upper+lower)/2\n",
    "    diff = op - BS_CALL(S, k , T, r, mid)\n",
    "    print(diff)\n",
    "    if abs(diff) < 0.01:\n",
    "        break\n",
    "    elif diff>0:\n",
    "        lower = mid\n",
    "    elif diff<0:\n",
    "        upper = mid\n",
    "    n+=1\n",
    "print('bs',BS_CALL(S, k , T, r, mid))\n",
    "print(mid)\n"
   ]
  },
  {
   "cell_type": "code",
   "execution_count": 76,
   "metadata": {},
   "outputs": [
    {
     "data": {
      "text/plain": [
       "119.0325163928081"
      ]
     },
     "execution_count": 76,
     "metadata": {},
     "output_type": "execute_result"
    }
   ],
   "source": [
    "BS_CALL(S, k , T, r, 0.001)"
   ]
  }
 ],
 "metadata": {
  "kernelspec": {
   "display_name": "Python 3",
   "language": "python",
   "name": "python3"
  },
  "language_info": {
   "codemirror_mode": {
    "name": "ipython",
    "version": 3
   },
   "file_extension": ".py",
   "mimetype": "text/x-python",
   "name": "python",
   "nbconvert_exporter": "python",
   "pygments_lexer": "ipython3",
   "version": "3.10.2"
  }
 },
 "nbformat": 4,
 "nbformat_minor": 2
}
